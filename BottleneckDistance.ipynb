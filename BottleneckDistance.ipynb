{
 "cells": [
  {
   "cell_type": "code",
   "execution_count": 1,
   "metadata": {},
   "outputs": [
    {
     "data": {
      "text/html": [
       "\n",
       "    <div class=\"bk-root\">\n",
       "        <a href=\"https://bokeh.pydata.org\" target=\"_blank\" class=\"bk-logo bk-logo-small bk-logo-notebook\"></a>\n",
       "        <span id=\"eea0009b-d35e-494d-a6d5-094996fd1099\">Loading BokehJS ...</span>\n",
       "    </div>"
      ]
     },
     "metadata": {},
     "output_type": "display_data"
    },
    {
     "data": {
      "application/javascript": [
       "\n",
       "(function(root) {\n",
       "  function now() {\n",
       "    return new Date();\n",
       "  }\n",
       "\n",
       "  var force = true;\n",
       "\n",
       "  if (typeof (root._bokeh_onload_callbacks) === \"undefined\" || force === true) {\n",
       "    root._bokeh_onload_callbacks = [];\n",
       "    root._bokeh_is_loading = undefined;\n",
       "  }\n",
       "\n",
       "  var JS_MIME_TYPE = 'application/javascript';\n",
       "  var HTML_MIME_TYPE = 'text/html';\n",
       "  var EXEC_MIME_TYPE = 'application/vnd.bokehjs_exec.v0+json';\n",
       "  var CLASS_NAME = 'output_bokeh rendered_html';\n",
       "\n",
       "  /**\n",
       "   * Render data to the DOM node\n",
       "   */\n",
       "  function render(props, node) {\n",
       "    var script = document.createElement(\"script\");\n",
       "    node.appendChild(script);\n",
       "  }\n",
       "\n",
       "  /**\n",
       "   * Handle when an output is cleared or removed\n",
       "   */\n",
       "  function handleClearOutput(event, handle) {\n",
       "    var cell = handle.cell;\n",
       "\n",
       "    var id = cell.output_area._bokeh_element_id;\n",
       "    var server_id = cell.output_area._bokeh_server_id;\n",
       "    // Clean up Bokeh references\n",
       "    if (id !== undefined) {\n",
       "      Bokeh.index[id].model.document.clear();\n",
       "      delete Bokeh.index[id];\n",
       "    }\n",
       "\n",
       "    if (server_id !== undefined) {\n",
       "      // Clean up Bokeh references\n",
       "      var cmd = \"from bokeh.io import _state; print(_state.uuid_to_server['\" + server_id + \"'].get_sessions()[0].document.roots[0]._id)\";\n",
       "      cell.notebook.kernel.execute(cmd, {\n",
       "        iopub: {\n",
       "          output: function(msg) {\n",
       "            var element_id = msg.content.text.trim();\n",
       "            Bokeh.index[element_id].model.document.clear();\n",
       "            delete Bokeh.index[element_id];\n",
       "          }\n",
       "        }\n",
       "      });\n",
       "      // Destroy server and session\n",
       "      var cmd = \"from bokeh import io; io._destroy_server('\" + server_id + \"')\";\n",
       "      cell.notebook.kernel.execute(cmd);\n",
       "    }\n",
       "  }\n",
       "\n",
       "  /**\n",
       "   * Handle when a new output is added\n",
       "   */\n",
       "  function handleAddOutput(event, handle) {\n",
       "    var output_area = handle.output_area;\n",
       "    var output = handle.output;\n",
       "\n",
       "    // limit handleAddOutput to display_data with EXEC_MIME_TYPE content only\n",
       "    if ((output.output_type != \"display_data\") || (!output.data.hasOwnProperty(EXEC_MIME_TYPE))) {\n",
       "      return\n",
       "    }\n",
       "\n",
       "    var toinsert = output_area.element.find(`.${CLASS_NAME.split(' ')[0]}`);\n",
       "\n",
       "    if (output.metadata[EXEC_MIME_TYPE][\"id\"] !== undefined) {\n",
       "      toinsert[0].firstChild.textContent = output.data[JS_MIME_TYPE];\n",
       "      // store reference to embed id on output_area\n",
       "      output_area._bokeh_element_id = output.metadata[EXEC_MIME_TYPE][\"id\"];\n",
       "    }\n",
       "    if (output.metadata[EXEC_MIME_TYPE][\"server_id\"] !== undefined) {\n",
       "      var bk_div = document.createElement(\"div\");\n",
       "      bk_div.innerHTML = output.data[HTML_MIME_TYPE];\n",
       "      var script_attrs = bk_div.children[0].attributes;\n",
       "      for (var i = 0; i < script_attrs.length; i++) {\n",
       "        toinsert[0].firstChild.setAttribute(script_attrs[i].name, script_attrs[i].value);\n",
       "      }\n",
       "      // store reference to server id on output_area\n",
       "      output_area._bokeh_server_id = output.metadata[EXEC_MIME_TYPE][\"server_id\"];\n",
       "    }\n",
       "  }\n",
       "\n",
       "  function register_renderer(events, OutputArea) {\n",
       "\n",
       "    function append_mime(data, metadata, element) {\n",
       "      // create a DOM node to render to\n",
       "      var toinsert = this.create_output_subarea(\n",
       "        metadata,\n",
       "        CLASS_NAME,\n",
       "        EXEC_MIME_TYPE\n",
       "      );\n",
       "      this.keyboard_manager.register_events(toinsert);\n",
       "      // Render to node\n",
       "      var props = {data: data, metadata: metadata[EXEC_MIME_TYPE]};\n",
       "      render(props, toinsert[0]);\n",
       "      element.append(toinsert);\n",
       "      return toinsert\n",
       "    }\n",
       "\n",
       "    /* Handle when an output is cleared or removed */\n",
       "    events.on('clear_output.CodeCell', handleClearOutput);\n",
       "    events.on('delete.Cell', handleClearOutput);\n",
       "\n",
       "    /* Handle when a new output is added */\n",
       "    events.on('output_added.OutputArea', handleAddOutput);\n",
       "\n",
       "    /**\n",
       "     * Register the mime type and append_mime function with output_area\n",
       "     */\n",
       "    OutputArea.prototype.register_mime_type(EXEC_MIME_TYPE, append_mime, {\n",
       "      /* Is output safe? */\n",
       "      safe: true,\n",
       "      /* Index of renderer in `output_area.display_order` */\n",
       "      index: 0\n",
       "    });\n",
       "  }\n",
       "\n",
       "  // register the mime type if in Jupyter Notebook environment and previously unregistered\n",
       "  if (root.Jupyter !== undefined) {\n",
       "    var events = require('base/js/events');\n",
       "    var OutputArea = require('notebook/js/outputarea').OutputArea;\n",
       "\n",
       "    if (OutputArea.prototype.mime_types().indexOf(EXEC_MIME_TYPE) == -1) {\n",
       "      register_renderer(events, OutputArea);\n",
       "    }\n",
       "  }\n",
       "\n",
       "  \n",
       "  if (typeof (root._bokeh_timeout) === \"undefined\" || force === true) {\n",
       "    root._bokeh_timeout = Date.now() + 5000;\n",
       "    root._bokeh_failed_load = false;\n",
       "  }\n",
       "\n",
       "  var NB_LOAD_WARNING = {'data': {'text/html':\n",
       "     \"<div style='background-color: #fdd'>\\n\"+\n",
       "     \"<p>\\n\"+\n",
       "     \"BokehJS does not appear to have successfully loaded. If loading BokehJS from CDN, this \\n\"+\n",
       "     \"may be due to a slow or bad network connection. Possible fixes:\\n\"+\n",
       "     \"</p>\\n\"+\n",
       "     \"<ul>\\n\"+\n",
       "     \"<li>re-rerun `output_notebook()` to attempt to load from CDN again, or</li>\\n\"+\n",
       "     \"<li>use INLINE resources instead, as so:</li>\\n\"+\n",
       "     \"</ul>\\n\"+\n",
       "     \"<code>\\n\"+\n",
       "     \"from bokeh.resources import INLINE\\n\"+\n",
       "     \"output_notebook(resources=INLINE)\\n\"+\n",
       "     \"</code>\\n\"+\n",
       "     \"</div>\"}};\n",
       "\n",
       "  function display_loaded() {\n",
       "    var el = document.getElementById(\"eea0009b-d35e-494d-a6d5-094996fd1099\");\n",
       "    if (el != null) {\n",
       "      el.textContent = \"BokehJS is loading...\";\n",
       "    }\n",
       "    if (root.Bokeh !== undefined) {\n",
       "      if (el != null) {\n",
       "        el.textContent = \"BokehJS \" + root.Bokeh.version + \" successfully loaded.\";\n",
       "      }\n",
       "    } else if (Date.now() < root._bokeh_timeout) {\n",
       "      setTimeout(display_loaded, 100)\n",
       "    }\n",
       "  }\n",
       "\n",
       "\n",
       "  function run_callbacks() {\n",
       "    try {\n",
       "      root._bokeh_onload_callbacks.forEach(function(callback) { callback() });\n",
       "    }\n",
       "    finally {\n",
       "      delete root._bokeh_onload_callbacks\n",
       "    }\n",
       "    console.info(\"Bokeh: all callbacks have finished\");\n",
       "  }\n",
       "\n",
       "  function load_libs(js_urls, callback) {\n",
       "    root._bokeh_onload_callbacks.push(callback);\n",
       "    if (root._bokeh_is_loading > 0) {\n",
       "      console.log(\"Bokeh: BokehJS is being loaded, scheduling callback at\", now());\n",
       "      return null;\n",
       "    }\n",
       "    if (js_urls == null || js_urls.length === 0) {\n",
       "      run_callbacks();\n",
       "      return null;\n",
       "    }\n",
       "    console.log(\"Bokeh: BokehJS not loaded, scheduling load and callback at\", now());\n",
       "    root._bokeh_is_loading = js_urls.length;\n",
       "    for (var i = 0; i < js_urls.length; i++) {\n",
       "      var url = js_urls[i];\n",
       "      var s = document.createElement('script');\n",
       "      s.src = url;\n",
       "      s.async = false;\n",
       "      s.onreadystatechange = s.onload = function() {\n",
       "        root._bokeh_is_loading--;\n",
       "        if (root._bokeh_is_loading === 0) {\n",
       "          console.log(\"Bokeh: all BokehJS libraries loaded\");\n",
       "          run_callbacks()\n",
       "        }\n",
       "      };\n",
       "      s.onerror = function() {\n",
       "        console.warn(\"failed to load library \" + url);\n",
       "      };\n",
       "      console.log(\"Bokeh: injecting script tag for BokehJS library: \", url);\n",
       "      document.getElementsByTagName(\"head\")[0].appendChild(s);\n",
       "    }\n",
       "  };var element = document.getElementById(\"eea0009b-d35e-494d-a6d5-094996fd1099\");\n",
       "  if (element == null) {\n",
       "    console.log(\"Bokeh: ERROR: autoload.js configured with elementid 'eea0009b-d35e-494d-a6d5-094996fd1099' but no matching script tag was found. \")\n",
       "    return false;\n",
       "  }\n",
       "\n",
       "  var js_urls = [\"https://cdn.pydata.org/bokeh/release/bokeh-0.12.9.min.js\", \"https://cdn.pydata.org/bokeh/release/bokeh-widgets-0.12.9.min.js\", \"https://cdn.pydata.org/bokeh/release/bokeh-tables-0.12.9.min.js\", \"https://cdn.pydata.org/bokeh/release/bokeh-gl-0.12.9.min.js\"];\n",
       "\n",
       "  var inline_js = [\n",
       "    function(Bokeh) {\n",
       "      Bokeh.set_log_level(\"info\");\n",
       "    },\n",
       "    \n",
       "    function(Bokeh) {\n",
       "      \n",
       "    },\n",
       "    function(Bokeh) {\n",
       "      console.log(\"Bokeh: injecting CSS: https://cdn.pydata.org/bokeh/release/bokeh-0.12.9.min.css\");\n",
       "      Bokeh.embed.inject_css(\"https://cdn.pydata.org/bokeh/release/bokeh-0.12.9.min.css\");\n",
       "      console.log(\"Bokeh: injecting CSS: https://cdn.pydata.org/bokeh/release/bokeh-widgets-0.12.9.min.css\");\n",
       "      Bokeh.embed.inject_css(\"https://cdn.pydata.org/bokeh/release/bokeh-widgets-0.12.9.min.css\");\n",
       "      console.log(\"Bokeh: injecting CSS: https://cdn.pydata.org/bokeh/release/bokeh-tables-0.12.9.min.css\");\n",
       "      Bokeh.embed.inject_css(\"https://cdn.pydata.org/bokeh/release/bokeh-tables-0.12.9.min.css\");\n",
       "    }\n",
       "  ];\n",
       "\n",
       "  function run_inline_js() {\n",
       "    \n",
       "    if ((root.Bokeh !== undefined) || (force === true)) {\n",
       "      for (var i = 0; i < inline_js.length; i++) {\n",
       "        inline_js[i].call(root, root.Bokeh);\n",
       "      }if (force === true) {\n",
       "        display_loaded();\n",
       "      }} else if (Date.now() < root._bokeh_timeout) {\n",
       "      setTimeout(run_inline_js, 100);\n",
       "    } else if (!root._bokeh_failed_load) {\n",
       "      console.log(\"Bokeh: BokehJS failed to load within specified timeout.\");\n",
       "      root._bokeh_failed_load = true;\n",
       "    } else if (force !== true) {\n",
       "      var cell = $(document.getElementById(\"eea0009b-d35e-494d-a6d5-094996fd1099\")).parents('.cell').data().cell;\n",
       "      cell.output_area.append_execute_result(NB_LOAD_WARNING)\n",
       "    }\n",
       "\n",
       "  }\n",
       "\n",
       "  if (root._bokeh_is_loading === 0) {\n",
       "    console.log(\"Bokeh: BokehJS loaded, going straight to plotting\");\n",
       "    run_inline_js();\n",
       "  } else {\n",
       "    load_libs(js_urls, function() {\n",
       "      console.log(\"Bokeh: BokehJS plotting callback run at\", now());\n",
       "      run_inline_js();\n",
       "    });\n",
       "  }\n",
       "}(window));"
      ],
      "application/vnd.bokehjs_load.v0+json": "\n(function(root) {\n  function now() {\n    return new Date();\n  }\n\n  var force = true;\n\n  if (typeof (root._bokeh_onload_callbacks) === \"undefined\" || force === true) {\n    root._bokeh_onload_callbacks = [];\n    root._bokeh_is_loading = undefined;\n  }\n\n  \n\n  \n  if (typeof (root._bokeh_timeout) === \"undefined\" || force === true) {\n    root._bokeh_timeout = Date.now() + 5000;\n    root._bokeh_failed_load = false;\n  }\n\n  var NB_LOAD_WARNING = {'data': {'text/html':\n     \"<div style='background-color: #fdd'>\\n\"+\n     \"<p>\\n\"+\n     \"BokehJS does not appear to have successfully loaded. If loading BokehJS from CDN, this \\n\"+\n     \"may be due to a slow or bad network connection. Possible fixes:\\n\"+\n     \"</p>\\n\"+\n     \"<ul>\\n\"+\n     \"<li>re-rerun `output_notebook()` to attempt to load from CDN again, or</li>\\n\"+\n     \"<li>use INLINE resources instead, as so:</li>\\n\"+\n     \"</ul>\\n\"+\n     \"<code>\\n\"+\n     \"from bokeh.resources import INLINE\\n\"+\n     \"output_notebook(resources=INLINE)\\n\"+\n     \"</code>\\n\"+\n     \"</div>\"}};\n\n  function display_loaded() {\n    var el = document.getElementById(\"eea0009b-d35e-494d-a6d5-094996fd1099\");\n    if (el != null) {\n      el.textContent = \"BokehJS is loading...\";\n    }\n    if (root.Bokeh !== undefined) {\n      if (el != null) {\n        el.textContent = \"BokehJS \" + root.Bokeh.version + \" successfully loaded.\";\n      }\n    } else if (Date.now() < root._bokeh_timeout) {\n      setTimeout(display_loaded, 100)\n    }\n  }\n\n\n  function run_callbacks() {\n    try {\n      root._bokeh_onload_callbacks.forEach(function(callback) { callback() });\n    }\n    finally {\n      delete root._bokeh_onload_callbacks\n    }\n    console.info(\"Bokeh: all callbacks have finished\");\n  }\n\n  function load_libs(js_urls, callback) {\n    root._bokeh_onload_callbacks.push(callback);\n    if (root._bokeh_is_loading > 0) {\n      console.log(\"Bokeh: BokehJS is being loaded, scheduling callback at\", now());\n      return null;\n    }\n    if (js_urls == null || js_urls.length === 0) {\n      run_callbacks();\n      return null;\n    }\n    console.log(\"Bokeh: BokehJS not loaded, scheduling load and callback at\", now());\n    root._bokeh_is_loading = js_urls.length;\n    for (var i = 0; i < js_urls.length; i++) {\n      var url = js_urls[i];\n      var s = document.createElement('script');\n      s.src = url;\n      s.async = false;\n      s.onreadystatechange = s.onload = function() {\n        root._bokeh_is_loading--;\n        if (root._bokeh_is_loading === 0) {\n          console.log(\"Bokeh: all BokehJS libraries loaded\");\n          run_callbacks()\n        }\n      };\n      s.onerror = function() {\n        console.warn(\"failed to load library \" + url);\n      };\n      console.log(\"Bokeh: injecting script tag for BokehJS library: \", url);\n      document.getElementsByTagName(\"head\")[0].appendChild(s);\n    }\n  };var element = document.getElementById(\"eea0009b-d35e-494d-a6d5-094996fd1099\");\n  if (element == null) {\n    console.log(\"Bokeh: ERROR: autoload.js configured with elementid 'eea0009b-d35e-494d-a6d5-094996fd1099' but no matching script tag was found. \")\n    return false;\n  }\n\n  var js_urls = [\"https://cdn.pydata.org/bokeh/release/bokeh-0.12.9.min.js\", \"https://cdn.pydata.org/bokeh/release/bokeh-widgets-0.12.9.min.js\", \"https://cdn.pydata.org/bokeh/release/bokeh-tables-0.12.9.min.js\", \"https://cdn.pydata.org/bokeh/release/bokeh-gl-0.12.9.min.js\"];\n\n  var inline_js = [\n    function(Bokeh) {\n      Bokeh.set_log_level(\"info\");\n    },\n    \n    function(Bokeh) {\n      \n    },\n    function(Bokeh) {\n      console.log(\"Bokeh: injecting CSS: https://cdn.pydata.org/bokeh/release/bokeh-0.12.9.min.css\");\n      Bokeh.embed.inject_css(\"https://cdn.pydata.org/bokeh/release/bokeh-0.12.9.min.css\");\n      console.log(\"Bokeh: injecting CSS: https://cdn.pydata.org/bokeh/release/bokeh-widgets-0.12.9.min.css\");\n      Bokeh.embed.inject_css(\"https://cdn.pydata.org/bokeh/release/bokeh-widgets-0.12.9.min.css\");\n      console.log(\"Bokeh: injecting CSS: https://cdn.pydata.org/bokeh/release/bokeh-tables-0.12.9.min.css\");\n      Bokeh.embed.inject_css(\"https://cdn.pydata.org/bokeh/release/bokeh-tables-0.12.9.min.css\");\n    }\n  ];\n\n  function run_inline_js() {\n    \n    if ((root.Bokeh !== undefined) || (force === true)) {\n      for (var i = 0; i < inline_js.length; i++) {\n        inline_js[i].call(root, root.Bokeh);\n      }if (force === true) {\n        display_loaded();\n      }} else if (Date.now() < root._bokeh_timeout) {\n      setTimeout(run_inline_js, 100);\n    } else if (!root._bokeh_failed_load) {\n      console.log(\"Bokeh: BokehJS failed to load within specified timeout.\");\n      root._bokeh_failed_load = true;\n    } else if (force !== true) {\n      var cell = $(document.getElementById(\"eea0009b-d35e-494d-a6d5-094996fd1099\")).parents('.cell').data().cell;\n      cell.output_area.append_execute_result(NB_LOAD_WARNING)\n    }\n\n  }\n\n  if (root._bokeh_is_loading === 0) {\n    console.log(\"Bokeh: BokehJS loaded, going straight to plotting\");\n    run_inline_js();\n  } else {\n    load_libs(js_urls, function() {\n      console.log(\"Bokeh: BokehJS plotting callback run at\", now());\n      run_inline_js();\n    });\n  }\n}(window));"
     },
     "metadata": {},
     "output_type": "display_data"
    }
   ],
   "source": [
    "from bokeh.plotting import figure, show, output_notebook\n",
    "output_notebook()"
   ]
  },
  {
   "cell_type": "markdown",
   "metadata": {},
   "source": [
    "## Bottleneck distance"
   ]
  },
  {
   "cell_type": "code",
   "execution_count": 2,
   "metadata": {},
   "outputs": [
    {
     "data": {
      "text/html": [
       "\n",
       "<div class=\"bk-root\">\n",
       "    <div class=\"bk-plotdiv\" id=\"07778293-263f-47ec-8fb6-e74b7649a04d\"></div>\n",
       "</div>"
      ]
     },
     "metadata": {},
     "output_type": "display_data"
    },
    {
     "data": {
      "application/javascript": [
       "(function(root) {\n",
       "  function embed_document(root) {\n",
       "    var docs_json = {\"0cc949ce-e183-4264-8539-af129743c557\":{\"roots\":{\"references\":[{\"attributes\":{\"source\":{\"id\":\"c61e0779-8e0b-4989-9ac2-92bd15ed3eae\",\"type\":\"ColumnDataSource\"}},\"id\":\"5e0400b0-dc78-4ac0-8d58-32d61804368c\",\"type\":\"CDSView\"},{\"attributes\":{},\"id\":\"d42e226d-7b10-4826-ad73-43376ccb184d\",\"type\":\"WheelZoomTool\"},{\"attributes\":{\"callback\":null,\"column_names\":[\"x\",\"y\"],\"data\":{\"x\":[-0.660728409435627,-2.0455025488474763,6.105966761158102,0.1562387099200323,-3.479998636211153,3.669662049280282,5.276360382042358,5.8149609049621995,-1.5884825217042615,1.4859308741137478,-2.7895414464028936,6.339610462607656,-2.7389971156752906,-3.4169988254017882,-2.92031217447413,6.4048554363284,-0.5889107493217565,-3.0079292638981925,-0.09986381098331176,1.1517375906608702,0.3213955551175477,-1.8825648058838238,-1.018276256263926,-0.5117393546158583,5.134873282204319,4.278620588319688,3.7956293835590498,-3.8335595968925618,6.050276941368986,-1.9006452686663498],\"y\":[-3.117883890283563,4.8031223759189245,2.536857153432804,6.190317362588123,-0.4644184498413893,-3.0654332157473894,3.934762258166766,3.3780553553639585,5.359594550707474,-3.980863107352891,-1.657016471217231,1.8861506361445,4.05646831909476,3.502475022242015,-1.9117758952691668,1.7309464795911371,-3.4282278058880817,-0.8098580768659704,-3.5134200163035647,6.284043607594644,6.000115235017093,5.534524569071589,-3.346898899769872,5.936770979436756,4.011835030672653,-3.0383714859986304,5.643778335021091,0.821988491267835,0.36277866435180184,-2.6063491973153092]}},\"id\":\"c61e0779-8e0b-4989-9ac2-92bd15ed3eae\",\"type\":\"ColumnDataSource\"},{\"attributes\":{\"plot\":{\"id\":\"8db7355b-8c31-4e0f-818c-0275440c31ee\",\"subtype\":\"Figure\",\"type\":\"Plot\"},\"ticker\":{\"id\":\"0cfa57b8-3f91-45a1-a217-9c4cf973f398\",\"type\":\"BasicTicker\"}},\"id\":\"211ae88e-9b99-4543-b59c-21c2d78a39d8\",\"type\":\"Grid\"},{\"attributes\":{\"active_drag\":\"auto\",\"active_inspect\":\"auto\",\"active_scroll\":\"auto\",\"active_tap\":\"auto\",\"tools\":[{\"id\":\"2d8b2f77-e944-4331-b7b3-2e828355f990\",\"type\":\"PanTool\"},{\"id\":\"d42e226d-7b10-4826-ad73-43376ccb184d\",\"type\":\"WheelZoomTool\"},{\"id\":\"6d70a493-c4f3-4767-b222-e69d2ae26ee8\",\"type\":\"BoxZoomTool\"},{\"id\":\"c0cacd5e-aaff-408d-a3c2-471baa398770\",\"type\":\"SaveTool\"},{\"id\":\"e65e3836-71d1-43cc-bf3c-2c46ff51d5f1\",\"type\":\"ResetTool\"},{\"id\":\"86ebdd82-ab06-4db1-bff2-1739b8b677ed\",\"type\":\"HelpTool\"}]},\"id\":\"1b6f48c8-a770-475f-8045-5eedf591f877\",\"type\":\"Toolbar\"},{\"attributes\":{},\"id\":\"725d28c1-db98-48bd-b9ae-8793f0874e2c\",\"type\":\"LinearScale\"},{\"attributes\":{\"fill_color\":{\"value\":\"navy\"},\"line_color\":{\"value\":\"navy\"},\"size\":{\"units\":\"screen\",\"value\":2},\"x\":{\"field\":\"x\"},\"y\":{\"field\":\"y\"}},\"id\":\"80db6327-fa30-474b-afac-ef0715a239c3\",\"type\":\"Circle\"},{\"attributes\":{\"bottom_units\":\"screen\",\"fill_alpha\":{\"value\":0.5},\"fill_color\":{\"value\":\"lightgrey\"},\"left_units\":\"screen\",\"level\":\"overlay\",\"line_alpha\":{\"value\":1.0},\"line_color\":{\"value\":\"black\"},\"line_dash\":[4,4],\"line_width\":{\"value\":2},\"plot\":null,\"render_mode\":\"css\",\"right_units\":\"screen\",\"top_units\":\"screen\"},\"id\":\"2fd02caf-87fb-4d99-9ced-8d42add6ac7c\",\"type\":\"BoxAnnotation\"},{\"attributes\":{\"data_source\":{\"id\":\"c61e0779-8e0b-4989-9ac2-92bd15ed3eae\",\"type\":\"ColumnDataSource\"},\"glyph\":{\"id\":\"4e273aee-a41f-485d-9757-f931442e4d6f\",\"type\":\"Circle\"},\"hover_glyph\":null,\"muted_glyph\":null,\"nonselection_glyph\":{\"id\":\"458c5a33-e1b3-49fa-9212-90d68f084b10\",\"type\":\"Circle\"},\"selection_glyph\":null,\"view\":{\"id\":\"5e0400b0-dc78-4ac0-8d58-32d61804368c\",\"type\":\"CDSView\"}},\"id\":\"2c26a570-b5ef-4006-a468-8ef0b93fba03\",\"type\":\"GlyphRenderer\"},{\"attributes\":{\"fill_alpha\":{\"value\":0.1},\"fill_color\":{\"value\":\"#1f77b4\"},\"line_alpha\":{\"value\":0.1},\"line_color\":{\"value\":\"#1f77b4\"},\"size\":{\"units\":\"screen\",\"value\":2},\"x\":{\"field\":\"x\"},\"y\":{\"field\":\"y\"}},\"id\":\"fe650778-5088-47ce-8b29-4aa1949a97f0\",\"type\":\"Circle\"},{\"attributes\":{\"callback\":null,\"column_names\":[\"x\",\"y\"],\"data\":{\"x\":[0.2671150452134961,8.487960324569736,9.121208778940119,9.42871038544737,11.224363870720914,2.7915800109177074,2.5475841653598597,2.30768803411799,0.9157563883399977,0.8570879311305526,10.424875397263994,2.766266624116019,2.4909262664071012,10.167786748401824,0.2545992997301317,9.922741614712379,10.227492877880254,7.506108842763059,7.242093629716353,5.02898953829948,8.214876598953024,11.23139329628768,10.56802982461563,5.417627186042862,4.900069369812551,11.039477152808866,10.644608079008526,8.986943634615441,9.069191628810719,8.088498750478019,4.571235130562765,0.22311226251670496,8.396823358375851,10.314579446933061,7.799765849220153,8.230228941174891,9.966965375450167,2.8934732584772713,1.957027990593455,6.4212814602658455],\"y\":[6.645739190404328,2.968778124803024,10.823344288436095,4.429035554830724,7.943067652155239,4.8435766372849445,10.610153975629085,4.70739631580526,10.149204858076123,10.622831737729113,5.88757447774411,3.405948152481493,4.016798833536178,11.122100315671752,6.325939335647296,11.55470700348165,6.060454304853731,3.5559991084730767,13.077610114687388,2.600736562249028,11.212768982281467,7.839050525749776,8.447177259759913,2.7063310205473154,3.2651291476901725,8.086517193309756,6.138516132724228,10.488168423581719,3.641469109024834,3.4831983106582562,11.884379351042167,8.386643905279142,12.065658763104286,8.735465107902655,2.8416328532765425,2.685433614002278,9.941989904190779,3.3428648496597546,10.708940389017645,2.5382120994830855]}},\"id\":\"c1871500-0107-4ae0-9c93-8047356b464e\",\"type\":\"ColumnDataSource\"},{\"attributes\":{\"formatter\":{\"id\":\"2b20b433-4bac-4e96-a477-d273ab67d0a1\",\"type\":\"BasicTickFormatter\"},\"plot\":{\"id\":\"8db7355b-8c31-4e0f-818c-0275440c31ee\",\"subtype\":\"Figure\",\"type\":\"Plot\"},\"ticker\":{\"id\":\"0cfa57b8-3f91-45a1-a217-9c4cf973f398\",\"type\":\"BasicTicker\"}},\"id\":\"9b875983-45cb-4527-853c-9ee9b91a6a67\",\"type\":\"LinearAxis\"},{\"attributes\":{},\"id\":\"e65e3836-71d1-43cc-bf3c-2c46ff51d5f1\",\"type\":\"ResetTool\"},{\"attributes\":{\"fill_color\":{\"value\":\"red\"},\"line_color\":{\"value\":\"red\"},\"size\":{\"units\":\"screen\",\"value\":2},\"x\":{\"field\":\"x\"},\"y\":{\"field\":\"y\"}},\"id\":\"4e273aee-a41f-485d-9757-f931442e4d6f\",\"type\":\"Circle\"},{\"attributes\":{},\"id\":\"86ebdd82-ab06-4db1-bff2-1739b8b677ed\",\"type\":\"HelpTool\"},{\"attributes\":{\"formatter\":{\"id\":\"2167e91a-fc2d-4660-b1fc-cdbe28f441ae\",\"type\":\"BasicTickFormatter\"},\"plot\":{\"id\":\"8db7355b-8c31-4e0f-818c-0275440c31ee\",\"subtype\":\"Figure\",\"type\":\"Plot\"},\"ticker\":{\"id\":\"de632ac6-73c1-4cc7-9883-51e2aaa12044\",\"type\":\"BasicTicker\"}},\"id\":\"a4326dd4-4cdb-42a5-812c-44ac008e8b1a\",\"type\":\"LinearAxis\"},{\"attributes\":{},\"id\":\"2d8b2f77-e944-4331-b7b3-2e828355f990\",\"type\":\"PanTool\"},{\"attributes\":{},\"id\":\"c0cacd5e-aaff-408d-a3c2-471baa398770\",\"type\":\"SaveTool\"},{\"attributes\":{},\"id\":\"0cfa57b8-3f91-45a1-a217-9c4cf973f398\",\"type\":\"BasicTicker\"},{\"attributes\":{},\"id\":\"2167e91a-fc2d-4660-b1fc-cdbe28f441ae\",\"type\":\"BasicTickFormatter\"},{\"attributes\":{},\"id\":\"2b20b433-4bac-4e96-a477-d273ab67d0a1\",\"type\":\"BasicTickFormatter\"},{\"attributes\":{},\"id\":\"de632ac6-73c1-4cc7-9883-51e2aaa12044\",\"type\":\"BasicTicker\"},{\"attributes\":{\"source\":{\"id\":\"c1871500-0107-4ae0-9c93-8047356b464e\",\"type\":\"ColumnDataSource\"}},\"id\":\"92c8df8f-ecac-4020-bf8c-1b8eab8d41e7\",\"type\":\"CDSView\"},{\"attributes\":{\"callback\":null},\"id\":\"5175df62-4833-4d92-b61a-199d13f8bc40\",\"type\":\"DataRange1d\"},{\"attributes\":{\"data_source\":{\"id\":\"c1871500-0107-4ae0-9c93-8047356b464e\",\"type\":\"ColumnDataSource\"},\"glyph\":{\"id\":\"80db6327-fa30-474b-afac-ef0715a239c3\",\"type\":\"Circle\"},\"hover_glyph\":null,\"muted_glyph\":null,\"nonselection_glyph\":{\"id\":\"fe650778-5088-47ce-8b29-4aa1949a97f0\",\"type\":\"Circle\"},\"selection_glyph\":null,\"view\":{\"id\":\"92c8df8f-ecac-4020-bf8c-1b8eab8d41e7\",\"type\":\"CDSView\"}},\"id\":\"aca23c15-86f6-4e9c-aadb-27e4dd4909b1\",\"type\":\"GlyphRenderer\"},{\"attributes\":{\"fill_alpha\":{\"value\":0.1},\"fill_color\":{\"value\":\"#1f77b4\"},\"line_alpha\":{\"value\":0.1},\"line_color\":{\"value\":\"#1f77b4\"},\"size\":{\"units\":\"screen\",\"value\":2},\"x\":{\"field\":\"x\"},\"y\":{\"field\":\"y\"}},\"id\":\"458c5a33-e1b3-49fa-9212-90d68f084b10\",\"type\":\"Circle\"},{\"attributes\":{\"overlay\":{\"id\":\"2fd02caf-87fb-4d99-9ced-8d42add6ac7c\",\"type\":\"BoxAnnotation\"}},\"id\":\"6d70a493-c4f3-4767-b222-e69d2ae26ee8\",\"type\":\"BoxZoomTool\"},{\"attributes\":{},\"id\":\"0190a2ee-e8ce-4121-aa0b-5cd83c605208\",\"type\":\"LinearScale\"},{\"attributes\":{\"dimension\":1,\"plot\":{\"id\":\"8db7355b-8c31-4e0f-818c-0275440c31ee\",\"subtype\":\"Figure\",\"type\":\"Plot\"},\"ticker\":{\"id\":\"de632ac6-73c1-4cc7-9883-51e2aaa12044\",\"type\":\"BasicTicker\"}},\"id\":\"03bd19e9-8ed9-4d99-a087-9cd76808f0cf\",\"type\":\"Grid\"},{\"attributes\":{\"callback\":null},\"id\":\"9abcc51b-4f51-4cb7-8c8d-7cd6910885b7\",\"type\":\"DataRange1d\"},{\"attributes\":{\"below\":[{\"id\":\"9b875983-45cb-4527-853c-9ee9b91a6a67\",\"type\":\"LinearAxis\"}],\"left\":[{\"id\":\"a4326dd4-4cdb-42a5-812c-44ac008e8b1a\",\"type\":\"LinearAxis\"}],\"plot_height\":400,\"plot_width\":400,\"renderers\":[{\"id\":\"9b875983-45cb-4527-853c-9ee9b91a6a67\",\"type\":\"LinearAxis\"},{\"id\":\"211ae88e-9b99-4543-b59c-21c2d78a39d8\",\"type\":\"Grid\"},{\"id\":\"a4326dd4-4cdb-42a5-812c-44ac008e8b1a\",\"type\":\"LinearAxis\"},{\"id\":\"03bd19e9-8ed9-4d99-a087-9cd76808f0cf\",\"type\":\"Grid\"},{\"id\":\"2fd02caf-87fb-4d99-9ced-8d42add6ac7c\",\"type\":\"BoxAnnotation\"},{\"id\":\"aca23c15-86f6-4e9c-aadb-27e4dd4909b1\",\"type\":\"GlyphRenderer\"},{\"id\":\"2c26a570-b5ef-4006-a468-8ef0b93fba03\",\"type\":\"GlyphRenderer\"}],\"title\":{\"id\":\"40bcac6c-f3c1-48a4-bc74-74194a77aa3e\",\"type\":\"Title\"},\"toolbar\":{\"id\":\"1b6f48c8-a770-475f-8045-5eedf591f877\",\"type\":\"Toolbar\"},\"x_range\":{\"id\":\"9abcc51b-4f51-4cb7-8c8d-7cd6910885b7\",\"type\":\"DataRange1d\"},\"x_scale\":{\"id\":\"725d28c1-db98-48bd-b9ae-8793f0874e2c\",\"type\":\"LinearScale\"},\"y_range\":{\"id\":\"5175df62-4833-4d92-b61a-199d13f8bc40\",\"type\":\"DataRange1d\"},\"y_scale\":{\"id\":\"0190a2ee-e8ce-4121-aa0b-5cd83c605208\",\"type\":\"LinearScale\"}},\"id\":\"8db7355b-8c31-4e0f-818c-0275440c31ee\",\"subtype\":\"Figure\",\"type\":\"Plot\"},{\"attributes\":{\"plot\":null,\"text\":\"\"},\"id\":\"40bcac6c-f3c1-48a4-bc74-74194a77aa3e\",\"type\":\"Title\"}],\"root_ids\":[\"8db7355b-8c31-4e0f-818c-0275440c31ee\"]},\"title\":\"Bokeh Application\",\"version\":\"0.12.9\"}};\n",
       "    var render_items = [{\"docid\":\"0cc949ce-e183-4264-8539-af129743c557\",\"elementid\":\"07778293-263f-47ec-8fb6-e74b7649a04d\",\"modelid\":\"8db7355b-8c31-4e0f-818c-0275440c31ee\"}];\n",
       "\n",
       "    root.Bokeh.embed.embed_items(docs_json, render_items);\n",
       "  }\n",
       "\n",
       "  if (root.Bokeh !== undefined) {\n",
       "    embed_document(root);\n",
       "  } else {\n",
       "    var attempts = 0;\n",
       "    var timer = setInterval(function(root) {\n",
       "      if (root.Bokeh !== undefined) {\n",
       "        embed_document(root);\n",
       "        clearInterval(timer);\n",
       "      }\n",
       "      attempts++;\n",
       "      if (attempts > 100) {\n",
       "        console.log(\"Bokeh: ERROR: Unable to embed document because BokehJS library is missing\")\n",
       "        clearInterval(timer);\n",
       "      }\n",
       "    }, 10, root)\n",
       "  }\n",
       "})(window);"
      ],
      "application/vnd.bokehjs_exec.v0+json": ""
     },
     "metadata": {
      "application/vnd.bokehjs_exec.v0+json": {
       "id": "8db7355b-8c31-4e0f-818c-0275440c31ee"
      }
     },
     "output_type": "display_data"
    }
   ],
   "source": [
    "import random_points\n",
    "circle_1=random_points.circle(radius=5., center=(5.,7.), points_nb=40, epsilon=1.5)\n",
    "circle_2=random_points.circle(radius=5., center=(1.,1.), points_nb=30, epsilon=0.5)\n",
    "\n",
    "p = figure(plot_width=400, plot_height=400)\n",
    "p.circle([point[0] for point in circle_1], [point[1] for point in circle_1], size=2, color=\"navy\", alpha=1.)\n",
    "p.circle([point[0] for point in circle_2], [point[1] for point in circle_2], size=2, color=\"red\", alpha=1.)\n",
    "show(p)"
   ]
  },
  {
   "cell_type": "code",
   "execution_count": 3,
   "metadata": {
    "scrolled": true
   },
   "outputs": [
    {
     "data": {
      "image/png": "[encoded data removed]",
      "text/plain": [
       "<matplotlib.figure.Figure at 0x7feab3f6ecc0>"
      ]
     },
     "metadata": {},
     "output_type": "display_data"
    }
   ],
   "source": [
    "import gudhi\n",
    "import sqrt\n",
    "alpha_1 = gudhi.AlphaComplex(points=circle_1)\n",
    "stree_1 = alpha_1.create_simplex_tree()\n",
    "diag_1 = sqrt.diagram(stree_1.persistence())\n",
    "plt = gudhi.plot_persistence_diagram(diag_1)\n",
    "plt.show()"
   ]
  },
  {
   "cell_type": "code",
   "execution_count": 4,
   "metadata": {},
   "outputs": [
    {
     "data": {
      "image/png": "[encoded data removed]",
      "text/plain": [
       "<matplotlib.figure.Figure at 0x7feab0f09b38>"
      ]
     },
     "metadata": {},
     "output_type": "display_data"
    }
   ],
   "source": [
    "alpha_2 = gudhi.AlphaComplex(points=circle_2)\n",
    "stree_2 = alpha_2.create_simplex_tree()\n",
    "diag_2 = sqrt.diagram(stree_2.persistence())\n",
    "plt = gudhi.plot_persistence_diagram(diag_2)\n",
    "plt.show()"
   ]
  },
  {
   "cell_type": "code",
   "execution_count": 5,
   "metadata": {},
   "outputs": [
    {
     "data": {
      "text/plain": [
       "0.20367561212545615"
      ]
     },
     "execution_count": 5,
     "metadata": {},
     "output_type": "execute_result"
    }
   ],
   "source": [
    "gudhi.bottleneck_distance(sqrt.interval(stree_1.persistence_intervals_in_dimension(0)),\n",
    "                          sqrt.interval(stree_2.persistence_intervals_in_dimension(0)))"
   ]
  },
  {
   "cell_type": "code",
   "execution_count": 6,
   "metadata": {},
   "outputs": [
    {
     "data": {
      "text/plain": [
       "0.5556276651924286"
      ]
     },
     "execution_count": 6,
     "metadata": {},
     "output_type": "execute_result"
    }
   ],
   "source": [
    "gudhi.bottleneck_distance(sqrt.interval(stree_1.persistence_intervals_in_dimension(1)),\n",
    "                          sqrt.interval(stree_2.persistence_intervals_in_dimension(1)))"
   ]
  },
  {
   "cell_type": "code",
   "execution_count": 7,
   "metadata": {},
   "outputs": [
    {
     "data": {
      "text/plain": [
       "0.5556276651924286"
      ]
     },
     "execution_count": 7,
     "metadata": {},
     "output_type": "execute_result"
    }
   ],
   "source": [
    "# Bottleneck distance\n",
    "max(gudhi.bottleneck_distance(sqrt.interval(stree_1.persistence_intervals_in_dimension(0)),\n",
    "                              sqrt.interval(stree_2.persistence_intervals_in_dimension(0))),\n",
    "    gudhi.bottleneck_distance(sqrt.interval(stree_1.persistence_intervals_in_dimension(1)),\n",
    "                              sqrt.interval(stree_2.persistence_intervals_in_dimension(1)))\n",
    "   )"
   ]
  }
 ],
 "metadata": {
  "kernelspec": {
   "display_name": "Python 3",
   "language": "python",
   "name": "python3"
  },
  "language_info": {
   "codemirror_mode": {
    "name": "ipython",
    "version": 3
   },
   "file_extension": ".py",
   "mimetype": "text/x-python",
   "name": "python",
   "nbconvert_exporter": "python",
   "pygments_lexer": "ipython3",
   "version": "3.5.2"
  }
 },
 "nbformat": 4,
 "nbformat_minor": 1
}
