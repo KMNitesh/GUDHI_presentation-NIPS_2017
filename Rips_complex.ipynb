{
 "cells": [
  {
   "cell_type": "code",
   "execution_count": 9,
   "metadata": {
    "scrolled": true
   },
   "outputs": [
    {
     "data": {
      "application/vnd.jupyter.widget-view+json": {
       "model_id": "6629c443a4194c6bbf2b8c9282f99cf5",
       "version_major": 2,
       "version_minor": 0
      },
      "text/html": [
       "<p>Failed to display Jupyter Widget of type <code>VBox</code>.</p>\n",
       "<p>\n",
       "  If you're reading this message in Jupyter Notebook or JupyterLab, it may mean\n",
       "  that the widgets JavaScript is still loading. If this message persists, it\n",
       "  likely means that the widgets JavaScript library is either not installed or\n",
       "  not enabled. See the <a href=\"https://ipywidgets.readthedocs.io/en/stable/user_install.html\">Jupyter\n",
       "  Widgets Documentation</a> for setup instructions.\n",
       "</p>\n",
       "<p>\n",
       "  If you're reading this message in another notebook frontend (for example, a static\n",
       "  rendering on GitHub or <a href=\"https://nbviewer.jupyter.org/\">NBViewer</a>),\n",
       "  it may mean that your frontend doesn't currently support widgets.\n",
       "</p>\n"
      ],
      "text/plain": [
       "VBox(children=(Figure(camera_center=[0.0, 0.0, 0.0], height=500, matrix_projection=[0.0, 0.0, 0.0, 0.0, 0.0, 0.0, 0.0, 0.0, 0.0, 0.0, 0.0, 0.0, 0.0, 0.0, 0.0, 0.0], matrix_world=[0.0, 0.0, 0.0, 0.0, 0.0, 0.0, 0.0, 0.0, 0.0, 0.0, 0.0, 0.0, 0.0, 0.0, 0.0, 0.0], scatters=[Scatter(color_selected=array('white', \n",
       "      dtype='<U5'), geo='sphere', size=array(30), size_selected=array(2.6), x=array([-1.081352, -1.062873, -0.49028 , ...,  0.710297,  1.207701,\n",
       "        1.279836]), y=array([-0.451815, -0.492063, -0.890039, ...,  0.170562,  0.33245 ,\n",
       "        0.005212]), z=array([ 0.237511, -0.246058,  0.299674, ...,  0.129136,  0.162218,\n",
       "        0.106332]))], style={'box': {'visible': True}, 'background-color': 'white', 'axes': {'color': 'black', 'visible': True, 'ticklabel': {'color': 'black'}, 'label': {'color': 'black'}}}, tf=None, width=400, xlim=[-1.298741, 1.29699], ylim=[-1.297935, 1.299333], zlim=[-0.300089, 1.0]),))"
      ]
     },
     "metadata": {},
     "output_type": "display_data"
    }
   ],
   "source": [
    "import gudhi\n",
    "points = gudhi.read_off(off_file = '/home/vincentrouvreau/svn/gudhi/trunk/data/points/tore3D_1307.off')\n",
    "import ipyvolume as ipv\n",
    "import numpy as np\n",
    "ipv.quickscatter(np.asarray([point[0] for point in points]),\n",
    "                 np.asarray([point[1] for point in points]),\n",
    "                 np.asarray([point[2] for point in points]),\n",
    "                 size=30, marker=\"sphere\")"
   ]
  },
  {
   "cell_type": "code",
   "execution_count": 5,
   "metadata": {},
   "outputs": [
    {
     "data": {
      "image/png": "[encoded data removed]",
      "text/plain": [
       "<matplotlib.figure.Figure at 0x7f49718aa3c8>"
      ]
     },
     "metadata": {},
     "output_type": "display_data"
    }
   ],
   "source": [
    "import matplotlib.patches as mpatches\n",
    "\n",
    "rips_complex = gudhi.RipsComplex(points=points, max_edge_length=0.4)\n",
    "simplex_tree = rips_complex.create_simplex_tree(max_dimension=3)\n",
    "diag = simplex_tree.persistence()\n",
    "plt = gudhi.plot_persistence_diagram(diag, max_plots=100)\n",
    "\n",
    "# some legends\n",
    "dim0 = mpatches.Patch(color='#ff0000', label='Dimension 0')\n",
    "dim1 = mpatches.Patch(color='#00ff00', label='Dimension 1')\n",
    "dim2 = mpatches.Patch(color='#0000ff', label='Dimension 2')\n",
    "plt.legend(bbox_to_anchor=(1.05, 1), loc=2, borderaxespad=0., handles=[dim0, dim1, dim2])\n",
    "\n",
    "plt.show()"
   ]
  }
 ],
 "metadata": {
  "kernelspec": {
   "display_name": "Python 3",
   "language": "python",
   "name": "python3"
  },
  "language_info": {
   "codemirror_mode": {
    "name": "ipython",
    "version": 3
   },
   "file_extension": ".py",
   "mimetype": "text/x-python",
   "name": "python",
   "nbconvert_exporter": "python",
   "pygments_lexer": "ipython3",
   "version": "3.5.2"
  }
 },
 "nbformat": 4,
 "nbformat_minor": 2
}
