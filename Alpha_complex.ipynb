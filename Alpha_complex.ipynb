{
 "cells": [
  {
   "cell_type": "code",
   "execution_count": 3,
   "metadata": {},
   "outputs": [
    {
     "data": {
      "application/vnd.jupyter.widget-view+json": {
       "model_id": "a511d8f2c7a44995a4138f06947d23b5",
       "version_major": 2,
       "version_minor": 0
      },
      "text/html": [
       "<p>Failed to display Jupyter Widget of type <code>VBox</code>.</p>\n",
       "<p>\n",
       "  If you're reading this message in Jupyter Notebook or JupyterLab, it may mean\n",
       "  that the widgets JavaScript is still loading. If this message persists, it\n",
       "  likely means that the widgets JavaScript library is either not installed or\n",
       "  not enabled. See the <a href=\"https://ipywidgets.readthedocs.io/en/stable/user_install.html\">Jupyter\n",
       "  Widgets Documentation</a> for setup instructions.\n",
       "</p>\n",
       "<p>\n",
       "  If you're reading this message in another notebook frontend (for example, a static\n",
       "  rendering on GitHub or <a href=\"https://nbviewer.jupyter.org/\">NBViewer</a>),\n",
       "  it may mean that your frontend doesn't currently support widgets.\n",
       "</p>\n"
      ],
      "text/plain": [
       "VBox(children=(Figure(camera_center=[0.0, 0.0, 0.0], height=500, matrix_projection=[0.0, 0.0, 0.0, 0.0, 0.0, 0.0, 0.0, 0.0, 0.0, 0.0, 0.0, 0.0, 0.0, 0.0, 0.0, 0.0], matrix_world=[0.0, 0.0, 0.0, 0.0, 0.0, 0.0, 0.0, 0.0, 0.0, 0.0, 0.0, 0.0, 0.0, 0.0, 0.0, 0.0], scatters=[Scatter(color_selected=array('white', \n",
       "      dtype='<U5'), geo='sphere', size=array(1), size_selected=array(2.6), x=array([ 0.0755862, -0.414068 , -0.941964 ,  0.784104 , -0.297657 ,\n",
       "        0.126817 , -0.827507 ,  0.130894 ,  0.249759 ,  0.461251 ,\n",
       "        0.43835  ,  0.749247 ,  0.214424 ,  0.842731 , -0.0298268,\n",
       "       -0.688111 , -0.881251 ,  0.487384 , -0.350731 , -0.3408   ,\n",
       "       -0.394324 , -0.124489 , -0.566445 , -0.608245 , -0.828898 ,\n",
       "        0.659172 ,  0.228584 ,  0.661598 ,  0.378329 , -0.0337275,\n",
       "        0.455306 , -0.299281 , -0.696971 , -0.435026 ,  0.162041 ,\n",
       "       -0.257807 , -0.113121 ,  0.387112 , -0.699743 , -0.604522 ,\n",
       "        0.563006 ,  0.17217  ,  0.781575 , -0.206172 , -0.738683 ,\n",
       "        0.0254707,  0.0505034,  0.420511 ,  0.166574 ,  0.303201 ,\n",
       "        0.0950602, -0.27739  ,  0.186158 ,  0.108603 ,  0.449844 ,\n",
       "        0.109111 , -0.398833 , -0.156129 ,  0.216651 , -0.099269 ,\n",
       "       -0.981873 ,  0.0363772, -0.569262 ,  0.610177 , -0.906609 ,\n",
       "       -0.930174 , -0.658168 , -0.325642 ,  0.720564 ,  0.720269 ,\n",
       "       -0.655059 , -0.432545 , -0.421814 ,  0.820991 , -0.302527 ,\n",
       "       -0.889545 ,  0.0644558, -0.899271 ,  0.844585 ,  0.322746 ,\n",
       "       -0.452376 , -0.408744 ,  0.0220233,  0.286943 ,  0.234593 ,\n",
       "       -0.279485 ,  0.658907 , -0.25173  , -0.842628 ,  0.507543 ,\n",
       "       -0.712365 ,  0.130709 , -0.731078 ,  0.218899 , -0.10267  ,\n",
       "        0.450375 ,  0.635132 ,  0.371159 ,  0.762739 ,  0.52917  ]), y=array([-0.227917  ,  0.695466  ,  0.127492  , -0.586398  , -0.0346826 ,\n",
       "        0.866632  ,  0.0427779 ,  0.692911  , -0.298075  , -0.293732  ,\n",
       "       -0.865317  ,  0.367992  ,  0.0532115 ,  0.301601  ,  0.13198   ,\n",
       "        0.0405946 ,  0.125426  , -0.745286  ,  0.422061  ,  0.661317  ,\n",
       "       -0.140535  ,  0.204069  ,  0.326513  , -0.536177  ,  0.362573  ,\n",
       "       -0.250122  , -0.703718  , -0.427976  ,  0.706249  , -0.38672   ,\n",
       "        0.0856557 , -0.858004  ,  0.301246  ,  0.760297  ,  0.277604  ,\n",
       "       -0.217127  , -0.990667  , -0.146821  ,  0.231431  ,  0.526623  ,\n",
       "        0.696226  , -0.0297814 ,  0.565003  ,  0.443205  , -0.416118  ,\n",
       "        0.834927  , -0.754579  ,  0.545918  ,  0.0196204 , -0.884839  ,\n",
       "        0.00911295,  0.952625  ,  0.178523  , -0.35953   ,  0.328253  ,\n",
       "       -0.73381   ,  0.0485247 , -0.445964  , -0.118385  , -0.0338632 ,\n",
       "        0.128288  ,  0.431475  ,  0.317487  ,  0.326094  , -0.333932  ,\n",
       "       -0.354787  ,  0.447629  , -0.424377  ,  0.676229  , -0.176699  ,\n",
       "        0.660322  ,  0.563346  , -0.242766  , -0.483602  ,  0.00397177,\n",
       "       -0.364391  ,  0.682706  , -0.356445  , -0.173071  , -0.554397  ,\n",
       "       -0.778846  , -0.739065  , -0.48095   , -0.556614  ,  0.572477  ,\n",
       "       -0.391603  , -0.293476  , -0.215729  ,  0.365093  ,  0.204971  ,\n",
       "       -0.0371224 ,  0.95702   ,  0.421337  , -0.527938  ,  0.529882  ,\n",
       "        0.122149  , -0.759452  , -0.111981  ,  0.61764   , -0.00851832]), z=array([ 0.186774  ,  0.165212  ,  0.290603  , -0.097681  ,  0.633704  ,\n",
       "        0.31008   , -0.432285  ,  0.700674  ,  0.803615  , -0.633709  ,\n",
       "       -0.233272  , -0.0647745 ,  0.247992  , -0.0456224 , -0.957277  ,\n",
       "       -0.0552081 , -0.402726  ,  0.36487   ,  0.0981832 , -0.271906  ,\n",
       "       -0.908089  , -0.752582  , -0.753455  ,  0.266271  ,  0.149579  ,\n",
       "       -0.338652  ,  0.442002  ,  0.388071  , -0.458166  ,  0.68899   ,\n",
       "       -0.744157  , -0.192704  , -0.0327532 , -0.402617  , -0.829593  ,\n",
       "        0.274358  ,  0.0415658 , -0.903696  , -0.252948  ,  0.109792  ,\n",
       "        0.339145  ,  0.762518  , -0.178603  , -0.571663  , -0.357621  ,\n",
       "       -0.517871  ,  0.158441  ,  0.623641  ,  0.985535  ,  0.191963  ,\n",
       "       -0.543443  ,  0.00793894, -0.810282  , -0.0747706 , -0.758873  ,\n",
       "       -0.421931  , -0.328157  , -0.881318  ,  0.967728  , -0.482151  ,\n",
       "       -0.139506  ,  0.0862848 ,  0.365321  ,  0.403205  , -0.0044689 ,\n",
       "       -0.0909381 ,  0.482766  ,  0.722411  ,  0.0832989 , -0.668855  ,\n",
       "       -0.349342  , -0.693456  ,  0.859065  , -0.182082  , -0.363874  ,\n",
       "       -0.181777  , -0.717043  ,  0.0581814 ,  0.0187447 ,  0.399444  ,\n",
       "        0.0704853 , -0.46851   , -0.876351  , -0.778932  ,  0.216811  ,\n",
       "        0.491402  , -0.494723  ,  0.821716  , -0.365052  ,  0.00409762,\n",
       "        0.613196  ,  0.0537735 ,  0.196925  , -0.166953  ,  0.274203  ,\n",
       "       -0.659176  , -0.140836  ,  0.916613  , -0.0170113 ,  0.587305  ]))], style={'box': {'visible': True}, 'axes': {'ticklabel': {'color': 'black'}, 'visible': True, 'color': 'black', 'label': {'color': 'black'}}, 'background-color': 'white'}, tf=None, width=400, xlim=[-0.981873, 1.0], ylim=[-0.990667, 1.0], zlim=[-0.957277, 1.0]),))"
      ]
     },
     "metadata": {},
     "output_type": "display_data"
    }
   ],
   "source": [
    "import gudhi\n",
    "points = gudhi.read_off(off_file = '/home/vincentrouvreau/3sphere.off')\n",
    "import ipyvolume as ipv\n",
    "import numpy as np\n",
    "ipv.quickscatter(np.asarray([point[0] for point in points]),\n",
    "                 np.asarray([point[1] for point in points]),\n",
    "                 np.asarray([point[2] for point in points]),\n",
    "                 size=1, marker=\"sphere\")"
   ]
  },
  {
   "cell_type": "code",
   "execution_count": 4,
   "metadata": {},
   "outputs": [
    {
     "data": {
      "application/vnd.jupyter.widget-view+json": {
       "model_id": "9816e6cdb3e94fbca4d9e061618cd973",
       "version_major": 2,
       "version_minor": 0
      },
      "text/html": [
       "<p>Failed to display Jupyter Widget of type <code>VBox</code>.</p>\n",
       "<p>\n",
       "  If you're reading this message in Jupyter Notebook or JupyterLab, it may mean\n",
       "  that the widgets JavaScript is still loading. If this message persists, it\n",
       "  likely means that the widgets JavaScript library is either not installed or\n",
       "  not enabled. See the <a href=\"https://ipywidgets.readthedocs.io/en/stable/user_install.html\">Jupyter\n",
       "  Widgets Documentation</a> for setup instructions.\n",
       "</p>\n",
       "<p>\n",
       "  If you're reading this message in another notebook frontend (for example, a static\n",
       "  rendering on GitHub or <a href=\"https://nbviewer.jupyter.org/\">NBViewer</a>),\n",
       "  it may mean that your frontend doesn't currently support widgets.\n",
       "</p>\n"
      ],
      "text/plain": [
       "VBox(children=(Figure(camera_center=[0.0, 0.0, 0.0], height=500, matrix_projection=[0.0, 0.0, 0.0, 0.0, 0.0, 0.0, 0.0, 0.0, 0.0, 0.0, 0.0, 0.0, 0.0, 0.0, 0.0, 0.0], matrix_world=[0.0, 0.0, 0.0, 0.0, 0.0, 0.0, 0.0, 0.0, 0.0, 0.0, 0.0, 0.0, 0.0, 0.0, 0.0, 0.0], scatters=[Scatter(color_selected=array('white', \n",
       "      dtype='<U5'), geo='sphere', size=array(1), size_selected=array(2.6), x=array([-0.227917  ,  0.695466  ,  0.127492  , -0.586398  , -0.0346826 ,\n",
       "        0.866632  ,  0.0427779 ,  0.692911  , -0.298075  , -0.293732  ,\n",
       "       -0.865317  ,  0.367992  ,  0.0532115 ,  0.301601  ,  0.13198   ,\n",
       "        0.0405946 ,  0.125426  , -0.745286  ,  0.422061  ,  0.661317  ,\n",
       "       -0.140535  ,  0.204069  ,  0.326513  , -0.536177  ,  0.362573  ,\n",
       "       -0.250122  , -0.703718  , -0.427976  ,  0.706249  , -0.38672   ,\n",
       "        0.0856557 , -0.858004  ,  0.301246  ,  0.760297  ,  0.277604  ,\n",
       "       -0.217127  , -0.990667  , -0.146821  ,  0.231431  ,  0.526623  ,\n",
       "        0.696226  , -0.0297814 ,  0.565003  ,  0.443205  , -0.416118  ,\n",
       "        0.834927  , -0.754579  ,  0.545918  ,  0.0196204 , -0.884839  ,\n",
       "        0.00911295,  0.952625  ,  0.178523  , -0.35953   ,  0.328253  ,\n",
       "       -0.73381   ,  0.0485247 , -0.445964  , -0.118385  , -0.0338632 ,\n",
       "        0.128288  ,  0.431475  ,  0.317487  ,  0.326094  , -0.333932  ,\n",
       "       -0.354787  ,  0.447629  , -0.424377  ,  0.676229  , -0.176699  ,\n",
       "        0.660322  ,  0.563346  , -0.242766  , -0.483602  ,  0.00397177,\n",
       "       -0.364391  ,  0.682706  , -0.356445  , -0.173071  , -0.554397  ,\n",
       "       -0.778846  , -0.739065  , -0.48095   , -0.556614  ,  0.572477  ,\n",
       "       -0.391603  , -0.293476  , -0.215729  ,  0.365093  ,  0.204971  ,\n",
       "       -0.0371224 ,  0.95702   ,  0.421337  , -0.527938  ,  0.529882  ,\n",
       "        0.122149  , -0.759452  , -0.111981  ,  0.61764   , -0.00851832]), y=array([ 0.186774  ,  0.165212  ,  0.290603  , -0.097681  ,  0.633704  ,\n",
       "        0.31008   , -0.432285  ,  0.700674  ,  0.803615  , -0.633709  ,\n",
       "       -0.233272  , -0.0647745 ,  0.247992  , -0.0456224 , -0.957277  ,\n",
       "       -0.0552081 , -0.402726  ,  0.36487   ,  0.0981832 , -0.271906  ,\n",
       "       -0.908089  , -0.752582  , -0.753455  ,  0.266271  ,  0.149579  ,\n",
       "       -0.338652  ,  0.442002  ,  0.388071  , -0.458166  ,  0.68899   ,\n",
       "       -0.744157  , -0.192704  , -0.0327532 , -0.402617  , -0.829593  ,\n",
       "        0.274358  ,  0.0415658 , -0.903696  , -0.252948  ,  0.109792  ,\n",
       "        0.339145  ,  0.762518  , -0.178603  , -0.571663  , -0.357621  ,\n",
       "       -0.517871  ,  0.158441  ,  0.623641  ,  0.985535  ,  0.191963  ,\n",
       "       -0.543443  ,  0.00793894, -0.810282  , -0.0747706 , -0.758873  ,\n",
       "       -0.421931  , -0.328157  , -0.881318  ,  0.967728  , -0.482151  ,\n",
       "       -0.139506  ,  0.0862848 ,  0.365321  ,  0.403205  , -0.0044689 ,\n",
       "       -0.0909381 ,  0.482766  ,  0.722411  ,  0.0832989 , -0.668855  ,\n",
       "       -0.349342  , -0.693456  ,  0.859065  , -0.182082  , -0.363874  ,\n",
       "       -0.181777  , -0.717043  ,  0.0581814 ,  0.0187447 ,  0.399444  ,\n",
       "        0.0704853 , -0.46851   , -0.876351  , -0.778932  ,  0.216811  ,\n",
       "        0.491402  , -0.494723  ,  0.821716  , -0.365052  ,  0.00409762,\n",
       "        0.613196  ,  0.0537735 ,  0.196925  , -0.166953  ,  0.274203  ,\n",
       "       -0.659176  , -0.140836  ,  0.916613  , -0.0170113 ,  0.587305  ]), z=array([-0.952605  ,  0.563542  , -0.109547  , -0.178261  ,  0.713174  ,\n",
       "        0.369753  ,  0.355714  ,  0.108612  , -0.450527  ,  0.547159  ,\n",
       "        0.0682547 ,  0.546822  ,  0.943234  ,  0.443576  , -0.255562  ,\n",
       "        0.722362  , -0.213253  ,  0.271801  , -0.830188  , -0.610396  ,\n",
       "        0.0115114 ,  0.613579  , -0.0695334 ,  0.521203  ,  0.398867  ,\n",
       "        0.623094  , -0.507114  , -0.478044  ,  0.38492   ,  0.612048  ,\n",
       "        0.481239  , -0.370303  , -0.649931  ,  0.265706  ,  0.456567  ,\n",
       "        0.900622  , -0.0636756 ,  0.109187  , -0.626751  ,  0.587509  ,\n",
       "        0.288573  ,  0.622927  ,  0.19497   ,  0.658987  ,  0.391536  ,\n",
       "       -0.18455   ,  0.634788  , -0.369075  ,  0.0242516 ,  0.297119  ,\n",
       "        0.833996  , -0.124489  , -0.52623   ,  0.923771  , -0.337641  ,\n",
       "        0.521144  ,  0.854921  ,  0.00430827, -0.0504919 , -0.869787  ,\n",
       "        0.00245656, -0.897252  ,  0.664592  ,  0.598977  , -0.257932  ,\n",
       "        0.0251529 ,  0.365213  , -0.43816   , -0.128695  ,  0.0512133 ,\n",
       "       -0.113277  ,  0.121099  , -0.158573  , -0.242795  , -0.880941  ,\n",
       "       -0.207091  , -0.124931  ,  0.246725  , -0.506331  ,  0.654923  ,\n",
       "       -0.428703  , -0.259249  , -0.0145109 , -0.0332994 , -0.755135  ,\n",
       "       -0.725989  , -0.484729  , -0.463548  , -0.153045  , -0.836881  ,\n",
       "       -0.339336  , -0.253251  , -0.499219  ,  0.803425  ,  0.795925  ,\n",
       "       -0.589685  , -0.00236649, -0.0975788 , -0.190945  ,  0.612356  ]))], style={'box': {'visible': True}, 'axes': {'ticklabel': {'color': 'black'}, 'visible': True, 'color': 'black', 'label': {'color': 'black'}}, 'background-color': 'white'}, tf=None, width=400, xlim=[-0.990667, 1.0], ylim=[-0.957277, 1.0], zlim=[-0.952605, 1.0]),))"
      ]
     },
     "metadata": {},
     "output_type": "display_data"
    }
   ],
   "source": [
    "ipv.quickscatter(np.asarray([point[1] for point in points]),\n",
    "                 np.asarray([point[2] for point in points]),\n",
    "                 np.asarray([point[3] for point in points]),\n",
    "                 size=1, marker=\"sphere\")"
   ]
  },
  {
   "cell_type": "code",
   "execution_count": 3,
   "metadata": {},
   "outputs": [
    {
     "data": {
      "application/vnd.jupyter.widget-view+json": {
       "model_id": "ba3147ceeba44d8da088834f84cd4b85",
       "version_major": 2,
       "version_minor": 0
      },
      "text/html": [
       "<p>Failed to display Jupyter Widget of type <code>VBox</code>.</p>\n",
       "<p>\n",
       "  If you're reading this message in Jupyter Notebook or JupyterLab, it may mean\n",
       "  that the widgets JavaScript is still loading. If this message persists, it\n",
       "  likely means that the widgets JavaScript library is either not installed or\n",
       "  not enabled. See the <a href=\"https://ipywidgets.readthedocs.io/en/stable/user_install.html\">Jupyter\n",
       "  Widgets Documentation</a> for setup instructions.\n",
       "</p>\n",
       "<p>\n",
       "  If you're reading this message in another notebook frontend (for example, a static\n",
       "  rendering on GitHub or <a href=\"https://nbviewer.jupyter.org/\">NBViewer</a>),\n",
       "  it may mean that your frontend doesn't currently support widgets.\n",
       "</p>\n"
      ],
      "text/plain": [
       "VBox(children=(Figure(camera_center=[0.0, 0.0, 0.0], height=500, matrix_projection=[0.0, 0.0, 0.0, 0.0, 0.0, 0.0, 0.0, 0.0, 0.0, 0.0, 0.0, 0.0, 0.0, 0.0, 0.0, 0.0], matrix_world=[0.0, 0.0, 0.0, 0.0, 0.0, 0.0, 0.0, 0.0, 0.0, 0.0, 0.0, 0.0, 0.0, 0.0, 0.0, 0.0], scatters=[Scatter(color_selected=array('white', \n",
       "      dtype='<U5'), geo='sphere', size=array(1), size_selected=array(2.6), x=array([ 0.186774  ,  0.165212  ,  0.290603  , -0.097681  ,  0.633704  ,\n",
       "        0.31008   , -0.432285  ,  0.700674  ,  0.803615  , -0.633709  ,\n",
       "       -0.233272  , -0.0647745 ,  0.247992  , -0.0456224 , -0.957277  ,\n",
       "       -0.0552081 , -0.402726  ,  0.36487   ,  0.0981832 , -0.271906  ,\n",
       "       -0.908089  , -0.752582  , -0.753455  ,  0.266271  ,  0.149579  ,\n",
       "       -0.338652  ,  0.442002  ,  0.388071  , -0.458166  ,  0.68899   ,\n",
       "       -0.744157  , -0.192704  , -0.0327532 , -0.402617  , -0.829593  ,\n",
       "        0.274358  ,  0.0415658 , -0.903696  , -0.252948  ,  0.109792  ,\n",
       "        0.339145  ,  0.762518  , -0.178603  , -0.571663  , -0.357621  ,\n",
       "       -0.517871  ,  0.158441  ,  0.623641  ,  0.985535  ,  0.191963  ,\n",
       "       -0.543443  ,  0.00793894, -0.810282  , -0.0747706 , -0.758873  ,\n",
       "       -0.421931  , -0.328157  , -0.881318  ,  0.967728  , -0.482151  ,\n",
       "       -0.139506  ,  0.0862848 ,  0.365321  ,  0.403205  , -0.0044689 ,\n",
       "       -0.0909381 ,  0.482766  ,  0.722411  ,  0.0832989 , -0.668855  ,\n",
       "       -0.349342  , -0.693456  ,  0.859065  , -0.182082  , -0.363874  ,\n",
       "       -0.181777  , -0.717043  ,  0.0581814 ,  0.0187447 ,  0.399444  ,\n",
       "        0.0704853 , -0.46851   , -0.876351  , -0.778932  ,  0.216811  ,\n",
       "        0.491402  , -0.494723  ,  0.821716  , -0.365052  ,  0.00409762,\n",
       "        0.613196  ,  0.0537735 ,  0.196925  , -0.166953  ,  0.274203  ,\n",
       "       -0.659176  , -0.140836  ,  0.916613  , -0.0170113 ,  0.587305  ]), y=array([-0.952605  ,  0.563542  , -0.109547  , -0.178261  ,  0.713174  ,\n",
       "        0.369753  ,  0.355714  ,  0.108612  , -0.450527  ,  0.547159  ,\n",
       "        0.0682547 ,  0.546822  ,  0.943234  ,  0.443576  , -0.255562  ,\n",
       "        0.722362  , -0.213253  ,  0.271801  , -0.830188  , -0.610396  ,\n",
       "        0.0115114 ,  0.613579  , -0.0695334 ,  0.521203  ,  0.398867  ,\n",
       "        0.623094  , -0.507114  , -0.478044  ,  0.38492   ,  0.612048  ,\n",
       "        0.481239  , -0.370303  , -0.649931  ,  0.265706  ,  0.456567  ,\n",
       "        0.900622  , -0.0636756 ,  0.109187  , -0.626751  ,  0.587509  ,\n",
       "        0.288573  ,  0.622927  ,  0.19497   ,  0.658987  ,  0.391536  ,\n",
       "       -0.18455   ,  0.634788  , -0.369075  ,  0.0242516 ,  0.297119  ,\n",
       "        0.833996  , -0.124489  , -0.52623   ,  0.923771  , -0.337641  ,\n",
       "        0.521144  ,  0.854921  ,  0.00430827, -0.0504919 , -0.869787  ,\n",
       "        0.00245656, -0.897252  ,  0.664592  ,  0.598977  , -0.257932  ,\n",
       "        0.0251529 ,  0.365213  , -0.43816   , -0.128695  ,  0.0512133 ,\n",
       "       -0.113277  ,  0.121099  , -0.158573  , -0.242795  , -0.880941  ,\n",
       "       -0.207091  , -0.124931  ,  0.246725  , -0.506331  ,  0.654923  ,\n",
       "       -0.428703  , -0.259249  , -0.0145109 , -0.0332994 , -0.755135  ,\n",
       "       -0.725989  , -0.484729  , -0.463548  , -0.153045  , -0.836881  ,\n",
       "       -0.339336  , -0.253251  , -0.499219  ,  0.803425  ,  0.795925  ,\n",
       "       -0.589685  , -0.00236649, -0.0975788 , -0.190945  ,  0.612356  ]), z=array([ 0.0755862, -0.414068 , -0.941964 ,  0.784104 , -0.297657 ,\n",
       "        0.126817 , -0.827507 ,  0.130894 ,  0.249759 ,  0.461251 ,\n",
       "        0.43835  ,  0.749247 ,  0.214424 ,  0.842731 , -0.0298268,\n",
       "       -0.688111 , -0.881251 ,  0.487384 , -0.350731 , -0.3408   ,\n",
       "       -0.394324 , -0.124489 , -0.566445 , -0.608245 , -0.828898 ,\n",
       "        0.659172 ,  0.228584 ,  0.661598 ,  0.378329 , -0.0337275,\n",
       "        0.455306 , -0.299281 , -0.696971 , -0.435026 ,  0.162041 ,\n",
       "       -0.257807 , -0.113121 ,  0.387112 , -0.699743 , -0.604522 ,\n",
       "        0.563006 ,  0.17217  ,  0.781575 , -0.206172 , -0.738683 ,\n",
       "        0.0254707,  0.0505034,  0.420511 ,  0.166574 ,  0.303201 ,\n",
       "        0.0950602, -0.27739  ,  0.186158 ,  0.108603 ,  0.449844 ,\n",
       "        0.109111 , -0.398833 , -0.156129 ,  0.216651 , -0.099269 ,\n",
       "       -0.981873 ,  0.0363772, -0.569262 ,  0.610177 , -0.906609 ,\n",
       "       -0.930174 , -0.658168 , -0.325642 ,  0.720564 ,  0.720269 ,\n",
       "       -0.655059 , -0.432545 , -0.421814 ,  0.820991 , -0.302527 ,\n",
       "       -0.889545 ,  0.0644558, -0.899271 ,  0.844585 ,  0.322746 ,\n",
       "       -0.452376 , -0.408744 ,  0.0220233,  0.286943 ,  0.234593 ,\n",
       "       -0.279485 ,  0.658907 , -0.25173  , -0.842628 ,  0.507543 ,\n",
       "       -0.712365 ,  0.130709 , -0.731078 ,  0.218899 , -0.10267  ,\n",
       "        0.450375 ,  0.635132 ,  0.371159 ,  0.762739 ,  0.52917  ]))], style={'axes': {'ticklabel': {'color': 'black'}, 'color': 'black', 'visible': True, 'label': {'color': 'black'}}, 'background-color': 'white', 'box': {'visible': True}}, tf=None, width=400, xlim=[-0.957277, 1.0], ylim=[-0.952605, 1.0], zlim=[-0.981873, 1.0]),))"
      ]
     },
     "metadata": {},
     "output_type": "display_data"
    }
   ],
   "source": [
    "ipv.quickscatter(np.asarray([point[2] for point in points]),\n",
    "                 np.asarray([point[3] for point in points]),\n",
    "                 np.asarray([point[0] for point in points]),\n",
    "                 size=1, marker=\"sphere\")"
   ]
  },
  {
   "cell_type": "code",
   "execution_count": 5,
   "metadata": {},
   "outputs": [
    {
     "data": {
      "text/plain": [
       "100"
      ]
     },
     "execution_count": 5,
     "metadata": {},
     "output_type": "execute_result"
    }
   ],
   "source": [
    "len(points)"
   ]
  },
  {
   "cell_type": "code",
   "execution_count": 5,
   "metadata": {},
   "outputs": [
    {
     "data": {
      "text/plain": [
       "[0.0755862, -0.227917, 0.186774, -0.952605]"
      ]
     },
     "execution_count": 5,
     "metadata": {},
     "output_type": "execute_result"
    }
   ],
   "source": [
    "points[0]"
   ]
  },
  {
   "cell_type": "code",
   "execution_count": 6,
   "metadata": {
    "scrolled": true
   },
   "outputs": [
    {
     "data": {
      "image/png": "[encoded data removed]",
      "text/plain": [
       "<matplotlib.figure.Figure at 0x7f5acabe92b0>"
      ]
     },
     "metadata": {},
     "output_type": "display_data"
    }
   ],
   "source": [
    "import matplotlib.patches as mpatches\n",
    "\n",
    "alpha_complex = gudhi.AlphaComplex(points=points)\n",
    "simplex_tree = alpha_complex.create_simplex_tree()\n",
    "diag = simplex_tree.persistence()\n",
    "plt = gudhi.plot_persistence_diagram(diag, max_plots=100)\n",
    "\n",
    "# some legends\n",
    "dim0 = mpatches.Patch(color='#ff0000', label='Dimension 0')\n",
    "dim1 = mpatches.Patch(color='#00ff00', label='Dimension 1')\n",
    "dim2 = mpatches.Patch(color='#0000ff', label='Dimension 2')\n",
    "dim3 = mpatches.Patch(color='#00ffff', label='Dimension 3')\n",
    "plt.legend(bbox_to_anchor=(1.05, 1), loc=2, borderaxespad=0., handles=[dim0, dim1, dim2, dim3])\n",
    "\n",
    "plt.show()"
   ]
  },
  {
   "cell_type": "code",
   "execution_count": 8,
   "metadata": {
    "scrolled": true
   },
   "outputs": [
    {
     "data": {
      "text/plain": [
       "7099"
      ]
     },
     "execution_count": 8,
     "metadata": {},
     "output_type": "execute_result"
    }
   ],
   "source": [
    "simplex_tree.num_simplices()"
   ]
  },
  {
   "cell_type": "code",
   "execution_count": 9,
   "metadata": {},
   "outputs": [],
   "source": [
    "# max_edge_length\n",
    "rips_complex = gudhi.RipsComplex(points=points)"
   ]
  },
  {
   "cell_type": "code",
   "execution_count": 13,
   "metadata": {},
   "outputs": [
    {
     "data": {
      "text/plain": [
       "79375495"
      ]
     },
     "execution_count": 13,
     "metadata": {},
     "output_type": "execute_result"
    }
   ],
   "source": [
    "stree = rips_complex.create_simplex_tree(max_dimension=4)\n",
    "stree.num_simplices()"
   ]
  },
  {
   "cell_type": "code",
   "execution_count": 14,
   "metadata": {},
   "outputs": [],
   "source": [
    "diag = stree.persistence()\n",
    "plt = gudhi.plot_persistence_diagram(diag, max_plots=100)\n"
   ]
  },
  {
   "cell_type": "code",
   "execution_count": 15,
   "metadata": {},
   "outputs": [
    {
     "data": {
      "image/png": "[encoded data removed]",
      "text/plain": [
       "<matplotlib.figure.Figure at 0x7fc335d7b3c8>"
      ]
     },
     "metadata": {},
     "output_type": "display_data"
    }
   ],
   "source": [
    "plt.show()"
   ]
  }
 ],
 "metadata": {
  "kernelspec": {
   "display_name": "Python 3",
   "language": "python",
   "name": "python3"
  },
  "language_info": {
   "codemirror_mode": {
    "name": "ipython",
    "version": 3
   },
   "file_extension": ".py",
   "mimetype": "text/x-python",
   "name": "python",
   "nbconvert_exporter": "python",
   "pygments_lexer": "ipython3",
   "version": "3.5.2"
  }
 },
 "nbformat": 4,
 "nbformat_minor": 2
}
