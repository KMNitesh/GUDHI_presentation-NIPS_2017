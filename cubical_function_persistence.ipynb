{
 "cells": [
  {
   "cell_type": "code",
   "execution_count": 1,
   "metadata": {},
   "outputs": [
    {
     "data": {
      "image/png": "[encoded data removed]",
      "text/plain": [
       "<matplotlib.figure.Figure at 0x7f167c283550>"
      ]
     },
     "metadata": {},
     "output_type": "display_data"
    }
   ],
   "source": [
    "from matplotlib.pyplot import figure, show\n",
    "\n",
    "from numpy import arange, sin, pi\n",
    "\n",
    "def my_sinusoid(t):\n",
    "    return 10 - 7*sin(t) - (3 * t)\n",
    "\n",
    "t = arange(0.0, 13.0, 13.0/75)\n",
    "\n",
    "fig = figure(1)\n",
    "\n",
    "signal = my_sinusoid(t)\n",
    "\n",
    "ax2 = fig.add_subplot(212)\n",
    "ax2.plot(t, signal, '.')\n",
    "ax2.grid(True)\n",
    "ax2.set_ylim((-35, 10))\n",
    "ax2.set_xlim((0, 13))\n",
    "\n",
    "points=[]\n",
    "for i in range(0,len(t)):\n",
    "    points.append(my_sinusoid(t[i]))\n",
    "\n",
    "show()"
   ]
  },
  {
   "cell_type": "code",
   "execution_count": 2,
   "metadata": {},
   "outputs": [
    {
     "data": {
      "image/png": "[encoded data removed]",
      "text/plain": [
       "<matplotlib.figure.Figure at 0x7f1661c9d588>"
      ]
     },
     "metadata": {},
     "output_type": "display_data"
    },
    {
     "data": {
      "text/plain": [
       "[(0, (-30.281566498233445, inf)),\n",
       " (0, (-21.213551105635062, -15.334789869008524)),\n",
       " (0, (-2.351930856552615, 3.503101508895332))]"
      ]
     },
     "execution_count": 2,
     "metadata": {},
     "output_type": "execute_result"
    }
   ],
   "source": [
    "import gudhi\n",
    "\n",
    "cc = gudhi.CubicalComplex(dimensions=[len(points)], top_dimensional_cells= points)\n",
    "diag = cc.persistence()\n",
    "plt = gudhi.plot_persistence_barcode(diag)\n",
    "plt.show()\n",
    "\n",
    "diag"
   ]
  }
 ],
 "metadata": {
  "kernelspec": {
   "display_name": "Python 3",
   "language": "python",
   "name": "python3"
  },
  "language_info": {
   "codemirror_mode": {
    "name": "ipython",
    "version": 3
   },
   "file_extension": ".py",
   "mimetype": "text/x-python",
   "name": "python",
   "nbconvert_exporter": "python",
   "pygments_lexer": "ipython3",
   "version": "3.5.2"
  }
 },
 "nbformat": 4,
 "nbformat_minor": 2
}
